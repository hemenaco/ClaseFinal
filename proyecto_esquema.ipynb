{
 "cells": [
  {
   "cell_type": "markdown",
   "metadata": {},
   "source": [
    "Instalación de Librerias"
   ]
  },
  {
   "cell_type": "code",
   "execution_count": null,
   "metadata": {
    "vscode": {
     "languageId": "plaintext"
    }
   },
   "outputs": [],
   "source": [
    "import pandas as pd\n",
    "import matplotlib.pyplot as plt\n",
    "import seaborn as sns\n",
    "import psycopg2\n",
    "import kagglehub "
   ]
  },
  {
   "cell_type": "markdown",
   "metadata": {},
   "source": [
    "en caso de requerir hacer un pip install kagglehub"
   ]
  },
  {
   "cell_type": "code",
   "execution_count": null,
   "metadata": {
    "vscode": {
     "languageId": "plaintext"
    }
   },
   "outputs": [],
   "source": [
    "# Descargar dataset desde Kaggle\n",
    "path = kagglehub.dataset_download(\"teamincribo/cyber-security-attacks\")\n",
    "\n",
    "# Cargar archivo CSV (puedes ajustar el nombre si es diferente)\n",
    "df = pd.read_csv(f\"{path}/cybersecurity_attacks.csv\")"
   ]
  },
  {
   "cell_type": "markdown",
   "metadata": {},
   "source": [
    "Realizamos la sanatizacion de los datos, mediante la copia de los dataset"
   ]
  },
  {
   "cell_type": "code",
   "execution_count": null,
   "metadata": {
    "vscode": {
     "languageId": "plaintext"
    }
   },
   "outputs": [],
   "source": [
    "# Paso 1: Limpiar columnas necesarias\n",
    "df2 = df[['Timestamp', 'Source IP Address', 'Attack Type', 'Attack Signature']].copy()\n",
    "\n",
    "# Paso 2: Eliminar registros con campos nulos\n",
    "df2.dropna(inplace=True)\n",
    "\n",
    "# Paso 3: Validar IPs válidas (IPv4)\n",
    "df2 = df2[df2['Source IP Address'].str.match(r\"^\\d{1,3}(\\.\\d{1,3}){3}$\", na=False)]\n",
    "\n",
    "# Paso 4: Eliminar registros con campos vacíos después de limpiar espacios\n",
    "df2 = df2[(df2['Attack Type'].str.strip() != \"\") & (df2['Attack Signature'].str.strip() != \"\")]\n",
    "\n",
    "# Paso 5: Seleccionar los primeros 10 registros válidos\n",
    "subset = df2.head(10)\n",
    "\n",
    "print(f\"✅ Se encontraron {len(subset)} registros válidos para insertar en la base de datos.\")"
   ]
  },
  {
   "cell_type": "markdown",
   "metadata": {},
   "source": [
    "Seleccionamos los valores del csv que vamos a guardar en la base de datos"
   ]
  },
  {
   "cell_type": "code",
   "execution_count": null,
   "metadata": {
    "vscode": {
     "languageId": "plaintext"
    }
   },
   "outputs": [],
   "source": []
  }
 ],
 "metadata": {
  "language_info": {
   "name": "python"
  }
 },
 "nbformat": 4,
 "nbformat_minor": 2
}
